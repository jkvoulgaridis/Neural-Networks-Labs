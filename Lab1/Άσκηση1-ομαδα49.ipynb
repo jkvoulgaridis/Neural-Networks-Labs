{
  "nbformat": 4,
  "nbformat_minor": 0,
  "metadata": {
    "accelerator": "GPU",
    "colab": {
      "name": "Άσκηση1",
      "provenance": [],
      "collapsed_sections": [],
      "toc_visible": true
    },
    "kernelspec": {
      "display_name": "Python 3",
      "name": "python3"
    }
  },
  "cells": [
    {
      "cell_type": "markdown",
      "metadata": {
        "id": "1AvpzHYrvVGs"
      },
      "source": [
        "# Πρώτη Άσκηση νευρωνικών\n",
        "\n",
        "Ομάδα 49 <br>\n",
        "Γιάννης Βουλγαρίδης, 03116151 <br>\n",
        "Μαρία-Ιωάννα Σωτηρίου, 03116090 <br>\n",
        "Ευάγγελος Ζάχος, 03116015 <br> \n",
        "\n",
        "# \"Μικρό\" Dataset s09 (sonar) \n",
        "\n",
        "## Βασικές Πληροφορίες.\n",
        "1. Το dataset αυτό περιέχει μετρήσεις βάσει των οποίων κατατάσσονται κάποια αντικέιμενα ως νάρκες(μεταλλικοί κύλινδροι) ή ως βράχοι. Τα 60 χαρακτηριστικά του κάθε δείγματος είναι η τιμή της ενέργειας που λαμβάνεται σε για μια συχνότητα. Άρα όλα τα χαρακτηριστικά εχουν διάταξη.  \n",
        "2. Το dataset περιέχει 207 δείγματα και κάθε δείγμα έχει 60 χαρακτηριστικά. Όπως αναφέρεατι και στο (1.) δεν υπάρχουν μη διατεταγμένα χαρακτηριστικά.  \n",
        "3. Δεν υπάρχουν επικεφαλίδες ή αρίθμιση γραμμών. \n",
        "4. Οι ετικέτες  βρίσκονται στην τελευταία στήλη του αρχείου δεδομένων και παίρνουν τιμές 'M' ή 'R' (metal/rock) κια για την τις ανάγκες της ανάπτυξης κωδικοποιούμε το 'M' με 0 και το 'R' με 1. \n",
        "5. Η μόνη αλλάγή που χρειάστηκε να γίνει στο dataset ήταν η απεικόνηση των ετικετών σε ακεραίους όπως περιγράφεται παραπάνω. \n",
        "6. Το dataset δεν έχει απουσιάζουσες τιμές όπως λέει και το documentation του Dataset στο UCI. Στην περίπτωση που υπήρχαν, θα μπορούσαμε να τις αντικαταστήσουμε με την μέση τιμή του αντίστοιχου χαρακτηριστικού, αν τα κενά αυτά δεν αποτελούν μεγάλο ποσοστό των δεδομένων. \n",
        "7. Υπάρχουν μόνο δύο (2) κλάσεις ('M', 'R').  Από τα 207 δείγματα τα 111 (53.6%) είναι της κλάσης 'Μ' και τα 96 (46.4%)  είναι της κλάσης 'R' και ως εκ τούτου το dataset θεωρείται ισοροπημένο.\n",
        "8. Στο επόμενο κελί υπάρχει και ο χωρισμός των δεδομένων σε train και test με χρήση της μεθόδου train_test_split η οποία χωρίζει τα υπάρχονται δεδομένα έτσι ώστε το 1/3 των δεδομένων να είναι για testing.\n"
      ]
    },
    {
      "cell_type": "code",
      "metadata": {
        "colab": {
          "base_uri": "https://localhost:8080/",
          "height": 332
        },
        "id": "D4oHNoaolPjv",
        "outputId": "fe995c98-b7a7-4c0a-f638-c6dde418ca7b"
      },
      "source": [
        "import numpy as np \n",
        "import pandas as pd\n",
        "import matplotlib.pyplot as plt\n",
        "\n",
        "'''\n",
        "Read small dataset\n",
        "variables starting with s refer to (s)mall dataset \n",
        "variables starting with b refer to (b)ig dataset \n",
        "'''\n",
        "stime = {}\n",
        "sMapping = {'M' : 0, 'R' : 1}\n",
        "sfd = pd.read_csv('sonar.all-data').values\n",
        "sLabels = pd.DataFrame(sfd[ : , sfd.shape[1]-1])[0].map(sMapping).values\n",
        "sData = sfd[: , :sfd.shape[1] - 1]\n",
        "print('Sonar dataset (s09) has {} instances and each one has {} atributes'.format(sData.shape[0],sData.shape[1]))\n",
        "slCount = np.bincount(sLabels)\n",
        "print('{} instances of METAL and {} instances of ROCK in the dataset'.format(slCount[0] , slCount[1]) )\n",
        "plt.figure(1)\n",
        "plt.pie(slCount , labels = ['metal' ,'rock'], autopct='%1.1f%%')\n",
        "plt.title('sonar dataset label % in sample')\n",
        "plt.show()\n",
        "\n",
        "\n",
        "print('This Dataset (sonar) is considered balanced! :)')\n",
        "print('There are no missing values in this dataset (sonar)')\n",
        "\n",
        "TEST_SIZE = 0.2\n",
        "from sklearn.model_selection import train_test_split\n",
        "from sklearn.metrics import classification_report\n",
        "from sklearn.metrics import confusion_matrix,f1_score\n",
        "trainData, testData, trainLabels, testLabels = train_test_split(sData , sLabels , test_size = TEST_SIZE)\n",
        "from sklearn.model_selection import cross_val_score"
      ],
      "execution_count": null,
      "outputs": [
        {
          "output_type": "stream",
          "text": [
            "Sonar dataset (s09) has 207 instances and each one has 60 atributes\n",
            "111 instances of METAL and 96 instances of ROCK in the dataset\n"
          ],
          "name": "stdout"
        },
        {
          "output_type": "display_data",
          "data": {
            "image/png": "[encoded data removed]",
            "text/plain": [
              "<Figure size 432x288 with 1 Axes>"
            ]
          },
          "metadata": {
            "tags": []
          }
        },
        {
          "output_type": "stream",
          "text": [
            "This Dataset (sonar) is considered balanced! :)\n",
            "There are no missing values in this dataset (sonar)\n"
          ],
          "name": "stdout"
        }
      ]
    },
    {
      "cell_type": "markdown",
      "metadata": {
        "id": "T7h5ylpmVTUL"
      },
      "source": [
        "Ακολουθεί η κατασκευή, εκπαίδευση και αποτίμηση διάφορων  Dummy Classifiers. Η αποτίμηση γίνεται μέσω των μετρικών f1_macro, f1_micro avg  και από τον πίνακα σύγχυσης (confusion matrix) όπως ζητείται από την εκφώνηση. Οι Dummy Classifiers έχουν f1_macro scores γύρω στο 40% με 5% σφάλμα (37-43%) και αυτό που αξίζει να δούμε είναι οι πίνακες σύγχησης. Για παράδειγμα, για τον \"χαζό\" σταθερό ταξινομήτη που επιστρέφει πάντα την κλάση που κωδικοποιέιται ως '1' βλέπουμε ότι ταξινόμησε και τα 27 σωστά (στοιχείο[2,2] του πίνακα) και τα 15 της κλάσης '0' τα τοποθέτησε επίσης λανθασμένα στην κλάση 1 (false posotives). Όμοιοι είναι και οι πίνακες για τους ταξινομητές constant=0 και most_frequent. Η διαφορά του most_frequent είναι ότι δεν δέχεται από τον σχεδιαστή την σταθερά αλλά την εξάγει μόνος του βάσει του ποσοστού που εμφανίζεται κάθε ετικέτα στο dataset."
      ]
    },
    {
      "cell_type": "code",
      "metadata": {
        "colab": {
          "base_uri": "https://localhost:8080/"
        },
        "id": "TtmMUD0dPSri",
        "outputId": "bdd6192b-3aa0-4066-ead3-bce859344f70"
      },
      "source": [
        "\n",
        "'''\n",
        "messing with various dummy Classifiers\n",
        "'''\n",
        "from sklearn.metrics import precision_score, recall_score\n",
        "\n",
        "sf1MacroArr = [] \n",
        "sf1MicroArr = [] \n",
        "\n",
        "sf1MacroDict = dict()\n",
        "sf1MicroDict = dict()\n",
        "sf1MacroDictOpt = {}\n",
        "sf1MicroDictOpt = {}\n",
        "\n",
        "from sklearn.dummy import DummyClassifier\n",
        "DummyModels = []\n",
        "DummyModels.append(DummyClassifier(strategy =  'uniform',  random_state=1))\n",
        "DummyModels.append(DummyClassifier(strategy =  'constant', constant=0,random_state=1))\n",
        "DummyModels.append(DummyClassifier(strategy =  'constant', constant=1 ,random_state=1))\n",
        "DummyModels.append(DummyClassifier(strategy =  'stratified', random_state=1))\n",
        "DummyModels.append(DummyClassifier(strategy =  'most_frequent', random_state=1))\n",
        "\n",
        "for model in DummyModels:\n",
        "  model.fit(trainData,trainLabels)\n",
        "  preds = model.predict(testData)\n",
        "  if model.strategy=='constant':\n",
        "    print('for dummy model with strategy {} and constant {}'.format(model.strategy,model.constant))\n",
        "  else:\n",
        "    print('for dummy model with strategy {}'.format(model.strategy))\n",
        "  f1_macro = f1_score(testLabels, preds, average='macro')\n",
        "  sf1MacroArr.append(f1_macro)\n",
        "  f1_micro = f1_score(testLabels, preds, average='micro')\n",
        "  sf1MicroArr.append(f1_micro)\n",
        "  p = precision_score(testLabels,preds)\n",
        "  r = recall_score(testLabels,preds)\n",
        "  print('precision = {:.5f} and recall = {:.5f}'.format(p,r))\n",
        "  print('macro average:\\t{:.3f}\\tmicro average:\\t{:.3f}'.format(f1_macro,f1_micro))\n",
        "  print('confusion matrix:')\n",
        "  res = confusion_matrix(testLabels,preds)\n",
        "  print(res)\n",
        "  print('---------------------------------------------')\n",
        "\n"
      ],
      "execution_count": null,
      "outputs": [
        {
          "output_type": "stream",
          "text": [
            "for dummy model with strategy uniform\n",
            "precision = 0.76190 and recall = 0.69565\n",
            "macro average:\t0.714\tmicro average:\t0.714\n",
            "confusion matrix:\n",
            "[[14  5]\n",
            " [ 7 16]]\n",
            "---------------------------------------------\n",
            "for dummy model with strategy constant and constant 0\n",
            "precision = 0.00000 and recall = 0.00000\n",
            "macro average:\t0.311\tmicro average:\t0.452\n",
            "confusion matrix:\n",
            "[[19  0]\n",
            " [23  0]]\n",
            "---------------------------------------------\n",
            "for dummy model with strategy constant and constant 1\n",
            "precision = 0.54762 and recall = 1.00000\n",
            "macro average:\t0.354\tmicro average:\t0.548\n",
            "confusion matrix:\n",
            "[[ 0 19]\n",
            " [ 0 23]]\n",
            "---------------------------------------------\n",
            "for dummy model with strategy stratified\n",
            "precision = 0.61111 and recall = 0.47826\n",
            "macro average:\t0.547\tmicro average:\t0.548\n",
            "confusion matrix:\n",
            "[[12  7]\n",
            " [12 11]]\n",
            "---------------------------------------------\n",
            "for dummy model with strategy most_frequent\n",
            "precision = 0.00000 and recall = 0.00000\n",
            "macro average:\t0.311\tmicro average:\t0.452\n",
            "confusion matrix:\n",
            "[[19  0]\n",
            " [23  0]]\n",
            "---------------------------------------------\n"
          ],
          "name": "stdout"
        }
      ]
    },
    {
      "cell_type": "markdown",
      "metadata": {
        "id": "xra24wETXnp8"
      },
      "source": [
        "Παρακάτω ακολουθεί η κατασκευή, εκπαίδευση και αποτίμηση ενός μοντέλου Naive Bayes Gaussian. Η αποτίμηση γίνεται βάσει των μετρικών που ζητούνται στην εκφώνηση. Αυτό το μοντέλο είναι πολύ ανώτερο των Dummy Classifiers και πετυχαίνει απόδοση f1_macro = 70% και f1_micro avg = 73.8%."
      ]
    },
    {
      "cell_type": "code",
      "metadata": {
        "colab": {
          "base_uri": "https://localhost:8080/"
        },
        "id": "09gcZrLxPTdK",
        "outputId": "3bce364c-96e6-4ec5-f873-f90fe8d2327b"
      },
      "source": [
        "'''\n",
        "naive bayes classifier\n",
        "'''\n",
        "from sklearn.naive_bayes import GaussianNB\n",
        "modelNBC = GaussianNB()\n",
        "modelNBC.fit(trainData,trainLabels)\n",
        "preds = modelNBC.predict(testData)\n",
        "f1_macro = f1_score(testLabels, preds, average='macro')\n",
        "f1_micro = f1_score(testLabels, preds, average='micro')\n",
        "p = precision_score(testLabels,preds)\n",
        "r = recall_score(testLabels,preds)\n",
        "print('precision = {:.5f} and recall = {:.5f}'.format(p,r))\n",
        "sf1MacroArr.append(f1_macro)\n",
        "sf1MicroArr.append(f1_micro)\n",
        "sf1MacroDict['bayes'] = f1_macro\n",
        "sf1MicroDict['bayes'] = f1_micro\n",
        "print('macro average:\\t{:.3f}\\tmicro average:\\t{:.3f}'.format(f1_macro,f1_micro))\n",
        "print('confusion matrix:')\n",
        "res = confusion_matrix(testLabels,preds)\n",
        "print(res)"
      ],
      "execution_count": null,
      "outputs": [
        {
          "output_type": "stream",
          "text": [
            "precision = 0.75000 and recall = 0.91304\n",
            "macro average:\t0.775\tmicro average:\t0.786\n",
            "confusion matrix:\n",
            "[[12  7]\n",
            " [ 2 21]]\n"
          ],
          "name": "stdout"
        }
      ]
    },
    {
      "cell_type": "markdown",
      "metadata": {
        "id": "XmNw5LNrZ_c_"
      },
      "source": [
        "Στο επόμενο κελί κώδικα κατασκευάζεται, εκπαιδεύεται και αποτιμάται ένα μοντέλο KNeighborsClassifier. Το μοντέλο αυτό δέχεται μια υπερμαράμετρο που ορίζει πόσους από τους πλησιέστρους γείτονες εξετάζουμε ως προς την κατηγορία, προκειμένου να ταξινομήσουμε ένα νέο δείγμα. Αρχικά αγνοούμε αυτή την παράμετρο και η τιμή αυτή λαμβάνει μια προκαθορισμένη. Στην συνέχεια θα την αποτιμήσουμε χρησιμοποιώντας trial and erro μέθοδο. Θα κατασκευάσουμε πολλά ίδια μοντέλα με διαφορετική τιμή υπερμαραμέτρου, θα τα αποτιμήσουμε όλα και εν τέλει θα κρατήσουμε αυτό που μεγιστοποιεί το score που θέτουμε (f1_macro/micro).   "
      ]
    },
    {
      "cell_type": "code",
      "metadata": {
        "colab": {
          "base_uri": "https://localhost:8080/"
        },
        "id": "OiKFg3O0PT7E",
        "outputId": "912905b7-5a0c-4bf8-cf0f-abe212a8161f"
      },
      "source": [
        "'''\n",
        "KNN classifier\n",
        "'''\n",
        "from sklearn.neighbors import KNeighborsClassifier\n",
        "modelKNN = KNeighborsClassifier()\n",
        "print(modelKNN)\n",
        "modelKNN.fit(trainData,trainLabels)\n",
        "preds = modelKNN.predict(testData)\n",
        "f1_macro = f1_score(testLabels, preds, average='macro')\n",
        "f1_micro = f1_score(testLabels, preds, average='micro')\n",
        "sf1MacroArr.append(f1_macro)\n",
        "sf1MicroArr.append(f1_micro)\n",
        "sf1MacroDict['knn'] = f1_macro\n",
        "sf1MicroDict['knn'] = f1_micro\n",
        "p = precision_score(testLabels,preds)\n",
        "r = recall_score(testLabels,preds)\n",
        "print('precision = {:.5f} and recall = {:.5f}'.format(p,r))\n",
        "print('macro average:\\t{:.3f}\\tmicro average:\\t{:.3f}'.format(f1_macro,f1_micro))\n",
        "print('confusion matrix:')\n",
        "res = confusion_matrix(testLabels,preds)\n",
        "print(res)"
      ],
      "execution_count": null,
      "outputs": [
        {
          "output_type": "stream",
          "text": [
            "KNeighborsClassifier(algorithm='auto', leaf_size=30, metric='minkowski',\n",
            "                     metric_params=None, n_jobs=None, n_neighbors=5, p=2,\n",
            "                     weights='uniform')\n",
            "precision = 0.88889 and recall = 0.69565\n",
            "macro average:\t0.786\tmicro average:\t0.786\n",
            "confusion matrix:\n",
            "[[17  2]\n",
            " [ 7 16]]\n"
          ],
          "name": "stdout"
        }
      ]
    },
    {
      "cell_type": "code",
      "metadata": {
        "colab": {
          "base_uri": "https://localhost:8080/",
          "height": 687
        },
        "id": "yAcTksPIp85Y",
        "outputId": "dec42de4-cf25-4fdc-e4e7-f86d5d2058a5"
      },
      "source": [
        "models = ['uniform' , 'constant 0', 'constant 1', 'stratified' , 'most frequent' , 'NB Gaussian' , \n",
        "          'KNN'] \n",
        "fig = plt.figure(3)\n",
        "ax = fig.add_axes([0,0,1,1])\n",
        "ax.bar(models, sf1MacroArr)\n",
        "plt.title('bar plot of macro average for all estimators in s09')\n",
        "plt.show()\n",
        "\n",
        "fig = plt.figure(4)\n",
        "ax = fig.add_axes([0,0,1,1])\n",
        "ax.bar(models, sf1MicroArr)\n",
        "plt.title('bar plot of micro average for all estimators in s09')\n",
        "plt.show()"
      ],
      "execution_count": null,
      "outputs": [
        {
          "output_type": "display_data",
          "data": {
            "image/png": "[encoded data removed]",
            "text/plain": [
              "<Figure size 432x288 with 1 Axes>"
            ]
          },
          "metadata": {
            "tags": [],
            "needs_background": "light"
          }
        },
        {
          "output_type": "display_data",
          "data": {
            "image/png": "[encoded data removed]",
            "text/plain": [
              "<Figure size 432x288 with 1 Axes>"
            ]
          },
          "metadata": {
            "tags": [],
            "needs_background": "light"
          }
        }
      ]
    },
    {
      "cell_type": "markdown",
      "metadata": {
        "id": "dLwyPvhWRsor"
      },
      "source": [
        "### Σχολιασμός αποτελέσμάτων, πινάκων σύγχησης και μετρικών\n",
        "\n",
        "Οι dummy classifiers στην πραγματικότητα δεν αποτελούν μοντέλα μηχανικής μάθησης αφού δεν εκτελούν κάποια δαδικασία μάθησης αλλά απλώς \"μαντεύουν\". Αποτελούν όμως ένα benchmark για τα άλλα μοντέλα. Ένα μοντέλο πρέπει να είναι καλύτερο από έναν Dummy Classifier για να είναι άξιο λόγου. Παρατηρούμε ότι ο Dummy που χρησιμοποιεί την στρατηγική να επιλέγει πάντα την κλάση '1' έχει 100% recall αφού ταξινομεί σωστά όλα τα στοιχεία της κλάσης '1' και ακρίβεια (precission) ~50% αφού από όλο το test set το 50% των δειγμάτων ανήκουν όντως στην κλάση '1'. Οι πιο χαακτηριστικοί πίνακες σύγχησης είναι αυτοί των 2 dummy classifiers με constant strategy που κατατάσσουν όλα τα δέιγματα σε μια κλάση (στήλη) αβλεπεί. Αναφορικά με τις κύριες μετρικές, την f1-macro και f1-micro οι οποίες προκύπτουν λαμβάνοντας υπόψει κατά κάποιο τρόπο και το precission και το recall βλάπουμε ότι όλοι οι dummy έχουν f1 περίπου από 40-50% με εξαίρεση των uniform που δίνει απότλέσματα f1 >70% και αυτό οφείλεται στο ότι το dataset έχει περίπου ίδιο αριθμό θετικών και αρνητικών δειγμάτων. Βάσει των f1-macro f1-micro το καλύτερο μοντέλο είναι ο KNN classifier, ωστόσο πρώτα θα γίνει η διαδικασία βελτιστοποίησης πριν αποφασίσουμε ποιο μοντέλο είναι καλύτερο."
      ]
    },
    {
      "cell_type": "code",
      "metadata": {
        "id": "s6we3zQpWkVw",
        "colab": {
          "base_uri": "https://localhost:8080/"
        },
        "outputId": "9238365e-4af2-46be-f807-20277cc3fa83"
      },
      "source": [
        "#optimise architecture for naive bayes\n",
        "from sklearn.feature_selection import VarianceThreshold\n",
        "from sklearn.preprocessing import StandardScaler\n",
        "from sklearn.decomposition import PCA\n",
        "from imblearn.pipeline import Pipeline\n",
        "import time\n",
        "model = GaussianNB()\n",
        "selector = VarianceThreshold()   #only features with variance > threshhold are used\n",
        "scaler = StandardScaler()        #scale data to mean = 0 and std dev =1\n",
        "pca = PCA()  \n",
        "pcas = [i for i in range(1,len(trainData[0]))]\n",
        "vars = np.var(trainData, axis=0)\n",
        "varArr = []\n",
        "q = min(vars)\n",
        "while q < max(vars):\n",
        "  q = q*10\n",
        "  varArr.append(q)\n",
        "print(varArr)\n",
        "varArr = varArr[:3]\n",
        "\n",
        "start = time.time()\n",
        "pipe1 = Pipeline(steps=[('scaler',scaler),('model',model)])\n",
        "f1_ma = np.mean(cross_val_score(pipe1 , trainData,trainLabels, scoring='f1_macro',cv=10))\n",
        "f1_mi = np.mean(cross_val_score(pipe1 , trainData,trainLabels, scoring='f1_micro',cv=10))\n",
        "mm = pipe1\n",
        "\n",
        "for var in varArr:\n",
        "  pipe = Pipeline(steps = [('selector',VarianceThreshold(var)) , ('scaler',scaler), ('model',model)])\n",
        "  f1MacroTmp = np.mean(cross_val_score(pipe , trainData,trainLabels, scoring='f1_macro',cv=10))\n",
        "  f1MicroTmp = np.mean(cross_val_score(pipe , trainData,trainLabels, scoring='f1_micro',cv=10))\n",
        "  if (f1MacroTmp > f1_ma or f1MicroTmp > f1_mi):\n",
        "    f1_ma = f1MacroTmp\n",
        "    f1_mi = f1MicroTmp\n",
        "    mm = pipe\n",
        "model = mm \n",
        "print(model)\n",
        "dur = time.time() - start \n",
        "print('gridsearch, train, predict time : {}hr : {}min : {:.2f} sec'.format(int(dur/3600),int(dur/60),dur))\n",
        "stime['bayes'] = dur\n",
        "\n",
        "model.fit(trainData,trainLabels)\n",
        "preds = model.predict(testData)\n",
        "f1_macro =  f1_score(testLabels,preds,average='macro')\n",
        "f1_micro = f1_score(testLabels, preds,average='micro')\n",
        "sf1MacroDictOpt['bayes'] = f1_macro\n",
        "sf1MicroDictOpt['bayes'] = f1_micro\n",
        "p = precision_score(testLabels,preds)\n",
        "r = recall_score(testLabels,preds)\n",
        "print('precision = {:.5f} and recall = {:.5f}'.format(p,r))\n",
        "print('macro before optimisation:\\t{:.3f}\\tand after opt:\\t{:.3f}'.format(sf1MacroDict['bayes'],sf1MacroDictOpt['bayes']))\n",
        "print('micro before optimisation:\\t{:.3f}\\tand after opt:\\t{:.3f}'.format(sf1MicroDict['bayes'],sf1MicroDictOpt['bayes']))\n",
        "print('confusion matrix:')\n",
        "res = confusion_matrix(testLabels,preds)\n",
        "print(res)\n"
      ],
      "execution_count": null,
      "outputs": [
        {
          "output_type": "stream",
          "text": [
            "[0.0002728365619834711, 0.002728365619834711, 0.02728365619834711, 0.2728365619834711]\n",
            "Pipeline(memory=None,\n",
            "         steps=[('selector', VarianceThreshold(threshold=0.002728365619834711)),\n",
            "                ('scaler',\n",
            "                 StandardScaler(copy=True, with_mean=True, with_std=True)),\n",
            "                ('model', GaussianNB(priors=None, var_smoothing=1e-09))],\n",
            "         verbose=False)\n",
            "gridsearch, train, predict time : 0hr : 0min : 0.24 sec\n",
            "precision = 0.84000 and recall = 0.91304\n",
            "macro before optimisation:\t0.775\tand after opt:\t0.854\n",
            "micro before optimisation:\t0.786\tand after opt:\t0.857\n",
            "confusion matrix:\n",
            "[[15  4]\n",
            " [ 2 21]]\n"
          ],
          "name": "stdout"
        }
      ]
    },
    {
      "cell_type": "code",
      "metadata": {
        "colab": {
          "base_uri": "https://localhost:8080/",
          "height": 681
        },
        "id": "TP7vQr4qtkIA",
        "outputId": "a09235f6-be06-43af-b657-30a369dc3149"
      },
      "source": [
        "#optimize KNN hyperparameter\n",
        "\n",
        "from sklearn.model_selection import GridSearchCV\n",
        "from imblearn.pipeline import Pipeline\n",
        "neighbors = [3,5,7,9,11]\n",
        "model = KNeighborsClassifier()\n",
        "pipe = Pipeline(steps=[('selector',selector),('scaler',scaler),('model',model)])\n",
        "start = time.time()\n",
        "est = GridSearchCV(pipe , param_grid = dict(model__n_neighbors=neighbors,selector__threshold=varArr), cv=10,\n",
        "                   scoring=['f1_macro','f1_micro'] ,refit = 'f1_macro' )\n",
        "est.fit(trainData,trainLabels)\n",
        "preds = est.predict(testData)\n",
        "dur = time.time()-start\n",
        "print('gridsearch, train, predict time : {}hr : {}min : {:.2f} sec'.format(int(dur/3600),int(dur/60),dur))\n",
        "\n",
        "stime['knn'] = dur\n",
        "f1_macro =  f1_score(testLabels,preds,average='macro')\n",
        "f1_micro = f1_score(testLabels, preds,average='micro')\n",
        "sf1MacroDictOpt['knn'] = f1_macro\n",
        "sf1MicroDictOpt['knn'] = f1_micro\n",
        "print(est.best_params_)\n",
        "p = precision_score(testLabels,preds)\n",
        "r = recall_score(testLabels,preds)\n",
        "print('precision = {:.5f} and recall = {:.5f}'.format(p,r))\n",
        "print('macro before optimisation:\\t{:.3f}\\tand after opt:\\t{:.3f}'.format(sf1MacroDict['knn'],sf1MacroDictOpt['knn']))\n",
        "print('micro before optimisation:\\t{:.3f}\\tand after opt:\\t{:.3f}'.format(sf1MicroDict['knn'],sf1MicroDictOpt['knn']))\n",
        "print('confusion matrix:')\n",
        "res = confusion_matrix(testLabels,preds)\n",
        "print(res)\n",
        "\n",
        "fig = plt.figure(19)\n",
        "ax = fig.add_axes([0,0,1,1])\n",
        "ax = plt.subplot(111)\n",
        "ax.bar(sf1MacroDict.keys(),sf1MacroDict.values(), color='g', width=0.2, align = 'center',label = 'no optimised')\n",
        "ax.bar(sf1MacroDictOpt.keys() , sf1MacroDictOpt.values(), color='r',width=0.2,align='edge', label = 'optimised')\n",
        "ax.legend()\n",
        "plt.title('comparative bar plot of micro average for all estimators in b03 before/after optimisation')\n",
        "plt.show()\n",
        "\n",
        "\n",
        "fig = plt.figure(9)\n",
        "ax = fig.add_axes([0,0,1,1])\n",
        "ax = plt.subplot(111)\n",
        "ax.bar(sf1MicroDict.keys(),sf1MicroDict.values(), color='g', width=0.2, align = 'center',label = 'no optimised')\n",
        "ax.bar(sf1MicroDictOpt.keys() , sf1MicroDictOpt.values(), color='r',width=0.2,align='edge', label = 'optimised')\n",
        "ax.legend()\n",
        "plt.title('comparative bar plot of micro average for all estimators in s09 before/after optimisation')\n",
        "plt.show()"
      ],
      "execution_count": null,
      "outputs": [
        {
          "output_type": "stream",
          "text": [
            "gridsearch, train, predict time : 0hr : 0min : 0.70 sec\n",
            "{'model__n_neighbors': 3, 'selector__threshold': 0.002728365619834711}\n",
            "precision = 0.90476 and recall = 0.82609\n",
            "macro before optimisation:\t0.786\tand after opt:\t0.857\n",
            "micro before optimisation:\t0.786\tand after opt:\t0.857\n",
            "confusion matrix:\n",
            "[[17  2]\n",
            " [ 4 19]]\n"
          ],
          "name": "stdout"
        },
        {
          "output_type": "display_data",
          "data": {
            "image/png": "[encoded data removed]",
            "text/plain": [
              "<Figure size 432x288 with 1 Axes>"
            ]
          },
          "metadata": {
            "tags": [],
            "needs_background": "light"
          }
        },
        {
          "output_type": "display_data",
          "data": {
            "image/png": "[encoded data removed]",
            "text/plain": [
              "<Figure size 432x288 with 1 Axes>"
            ]
          },
          "metadata": {
            "tags": [],
            "needs_background": "light"
          }
        }
      ]
    },
    {
      "cell_type": "code",
      "metadata": {
        "colab": {
          "base_uri": "https://localhost:8080/",
          "height": 281
        },
        "id": "kRT57cs4hE9c",
        "outputId": "cda2a758-bc6a-463c-d133-a3a2b05b8d20"
      },
      "source": [
        "fig = plt.figure(9)\n",
        "ax = fig.add_axes([0,0,1,1])\n",
        "ax = plt.subplot(111)\n",
        "ax.bar(stime.keys(),stime.values(), color='g', width=0.2, align = 'center')\n",
        "plt.title('comparative bar plot of optimisation time in s09')\n",
        "plt.show()"
      ],
      "execution_count": null,
      "outputs": [
        {
          "output_type": "display_data",
          "data": {
            "image/png": "[encoded data removed]",
            "text/plain": [
              "<Figure size 432x288 with 1 Axes>"
            ]
          },
          "metadata": {
            "tags": [],
            "needs_background": "light"
          }
        }
      ]
    },
    {
      "cell_type": "markdown",
      "metadata": {
        "id": "ym2n7siE3kJY"
      },
      "source": [
        "Μετά την βελτισοποίηση καταλήξαμε σε ένα μοντέλο Gaussian Naive bayes με 2 στάδια προεπεξεργασίας, ένα variance threshold selector και ένα standard scaler και ένα μοντέλο KNN Classaifier με υπερπαράμετρο πησιέστερων γειτόνων 3 και 2 στάδια προεπεξεργασίας variance threshold selector και ένα standard scaler όπως παραπάνω. Ο βελτιστοποιημένος Naive Bayes έχει precission 84% που σημαίνει ότι το 84% των δειγμάτων που ταξινομήθηκαν στην κλάση 1 ανήκουν όντως στην κλάση 1 και recall 91.3% που σημαίνει ότι ταξινόμησε σωστά το 91.3% των δειγμάτων της κλάσης 1. Επίσης, συγκρίνοντας τους πίνακες σύγχησης για τον ταξινομητή gauss πριν και μετά την βελτιστοποίηση βλέπουμε ότι αυτός που προκύπτει μετά την βελτιστοποίηση έχει πιο πολλά στοιχεία στην κύρια διαγώνιο, ένδειξη ότι έχει γίνει σωστότερη ταξινόμηση. Για τον KNN ταξινομητή έχουμε precission 90% και recall 82.6%. Η επιλογή καλύτερου μοντέλου γίνεται βάσει των μετρικών f1-macro/f1-micro και συνεπώς επιλέγεται το KNN (f1_macro = 85.7%> 85.4% , f1_micro = 85.7% = 85.7%).\n",
        "\n",
        "Τέλος, οι χρόνοι για την εύρεση των βέλτιστων παραμέτρων και αρχιτεκτονικής είναι 0.25 sec και 0.70 sec για τους Naive Bayes και KNN ταξινομητές. Και οι δύο χρόνοι είναι πολύ μικροί και αυτό είναι λογικό αφού ο χώρος αναζήτησης του βέλτιστου είναι πολύ μικρός και για τους 2 ταξινομητές.     "
      ]
    },
    {
      "cell_type": "markdown",
      "metadata": {
        "id": "rkeTrH_Ap_Qy"
      },
      "source": [
        "#\"Μεγάλο\" Dataset b03 (sat) \n",
        "\n",
        "##Βασικές Πληροφορίες.\n",
        "1. Το dataset αυτό περιέχει ως δείγματα τμήματα εικονών 9 pixel ανά κομμάτι (3x3 τεράγωνα) και ανά εικόνα υπάρχουν 4 λήψεις που αντιστοιχούν σε διαφορετικό μέρος του φάσμματος. Οπότε για κάθε εικόνα υπάρχουν 4*9 = 36 χαρακτηριστικά. Οι τιμές των χαρακτηριστικών αυτών είναι τιμές από 0 έως 255 και αναπαριστούν το graysclale επίπεδο κάθε pixel. Τα χαρακτηριστικά είναι όλα ακέραια και πλήρως ταξινομημένα αφού όσο μεγαλύτερη είναι η τιμή ενός χαρακτηριστικού τόσο πιο ανοιχτόχρωμο είναι το pixel εκείνο στην συγκεκριμένη λήψη. Οι εικόνες κατατάσσονται σε 6 κατηγορίες κάθε μία από τις οποίες δηλώνεται με έναν εκ των αριθμών 1,2,3,4,5,7. Υπήρχε και κατηγορία νούμερο 6 στην οποία κατατάσσονταν εικόνες που περιήχαν στοιχεία όλων των άλλων κατηγοριών μαζί αλλά αφαιρέθηκε διότι ήταν αρκετά ασαφής. Οι κατηγορίες στις οποίες αντιστοιχίζονται  οι παραπάνω αριθμοί είναι κοκκινόχωμα, φυτεία βαμβακιού, βραχώδης έκταση(γκρι), βραχώδης έκταση με υγρασία (damp grey soil ? ), έδαφος με καλλιέργειες ή λασπωμένη έκταση. \n",
        "2.Το dataset (sat.trn + sat.tst) απαρτίζεται από 6433 δείγματα καθένα εκ των οποίων έχει 36 χαρακτηριστικά.  Τα χαρακτηριστικά είναι όλα ίδιου είδους, τιμές pixel σε grayscale σύστημα, οπότε θεωρούνται ταξινομημένα και δεν χρειάζεται ειδικός χειρισμός ως προς αυτό. \n",
        "3. Τα αρχεία sat.trn και sat.tst περιέχουν μόνο αριθμιτικά δεδομένα, χωρίς επικεφαλίδες ή αρίθμιση. Αυτό φαίνεται εκτελώντας print(data) όπου data ο πίνακας που αποθηκέυει τα περιεχόμενα των αρχείων για να τα επεξεργαστεί το σύστημα. \n",
        "4. Κάθε γραμμή του αρχείου αποτελεί ένα ένα δείγμα με 37 αριμούς, 36 χαρακτηριστικά και 1 κατηγορία. Η κατηγορία κωδικοποιείται με ένα ακέραιο στο σύνολο [1,2,3,4,5,7] και βρίσκεται στην τελευταία στήλη κάθε γραμμής. \n",
        "5. Τα αρχεία ανήχθησαν μέσω του pd.read_csv() και μεατράπηκαν από dataframes σε values. Τα αρχεία είναι 2 (sat.tst, sat.trn). Αφού διαβστούν τα συνενώνουμε σε έναν πίνακα ώστε να είναι δυνατός ο διαχωρισμός του συνόλου των δεδομένων στο επιθυμητό μέγεθος test-train. Επίσης, από τα αρχικά csv απομονώνονται οι τελυεταίες στήλες (που είναι οι ετικέτες) και τοποθετούνται σε άλλο πίνακα. \n",
        "6. Στο dataset  αυτό δεν  υπάρχουν απουσιάζουσες τιμές, κάτι το οποίο είναι γνωστό από το documentation του dataset στο UCI. \n",
        "7. Το dataset είναι εμφανώς ανισόρροπο όπως φαίνεται και από το διλαγραμμα πίτας στο αμέσως απόμενο κελί κώδικα. Παράδειγμα απότελεί κλάση 1 με παρουσία 23.8 και η 4 με παρουσία ~9% στο dataset.  \n",
        "8. Η ανάγνωση των δεδομένων, ο διαχωρισμός σε train-test και ο έλεγχος για την ισορροπία των κλάσεων υλοποιούνται στο επόμενο κελί κώδικα."
      ]
    },
    {
      "cell_type": "code",
      "metadata": {
        "colab": {
          "base_uri": "https://localhost:8080/",
          "height": 316
        },
        "id": "DvSl8Irs4jKA",
        "outputId": "24b73b48-b13b-4d63-f470-227b4512b000"
      },
      "source": [
        "'''\n",
        "read and preprocess the large dataset\n",
        "'''\n",
        "bfdTrain = pd.read_csv('sat.trn' , delimiter=' ').values\n",
        "trainLabels = bfdTrain[:, 36]\n",
        "trainData = bfdTrain[: , :36]\n",
        "bfdTest = pd.read_csv('sat.tst' , delimiter= ' ').values\n",
        "testLabels = bfdTest[: , 36]\n",
        "testData = bfdTest[:, :36]\n",
        "data = np.concatenate((trainData,testData), axis = 0)\n",
        "labels = np.concatenate((trainLabels, testLabels) ,axis = 0)\n",
        "print(data.shape)\n",
        "bLabelCount = np.bincount(labels)\n",
        "bLabelCount=np.delete(bLabelCount, 0)\n",
        "bLabelCount=np.delete(bLabelCount , 5)\n",
        "plt.pie(bLabelCount,labels=[1,2,3,4,5,7], autopct='%1.1f%%')\n",
        "plt.show()\n",
        "print('this  dataset is obviously imbalanced :(')\n",
        "trainData, testData,trainLabels ,testLabels = train_test_split(data,labels,test_size = 0.3)\n",
        "print(trainData.shape)\n",
        "print(trainLabels.shape)"
      ],
      "execution_count": null,
      "outputs": [
        {
          "output_type": "stream",
          "text": [
            "(6433, 36)\n"
          ],
          "name": "stdout"
        },
        {
          "output_type": "display_data",
          "data": {
            "image/png": "[encoded data removed]",
            "text/plain": [
              "<Figure size 432x288 with 1 Axes>"
            ]
          },
          "metadata": {
            "tags": []
          }
        },
        {
          "output_type": "stream",
          "text": [
            "this  dataset is obviously imbalanced :(\n",
            "(4503, 36)\n",
            "(4503,)\n"
          ],
          "name": "stdout"
        }
      ]
    },
    {
      "cell_type": "markdown",
      "metadata": {
        "id": "o8zJfefjuITv"
      },
      "source": [
        "Μιας και για τους Dummy classifiers δεν απαιτείται κάποιοιυ είδους βελτιστοποίηση θα εκπαιδεύτούν ένα uniform, ένα stratified και ένα most_frequent μοντέλο Dummy Classifier και θα κρατήσουμε τα αποτελέσματα για benchmark στα επόμενα μοντέλα.  "
      ]
    },
    {
      "cell_type": "code",
      "metadata": {
        "colab": {
          "base_uri": "https://localhost:8080/"
        },
        "id": "Kmqw9DSocDBY",
        "outputId": "b351fa83-24fa-4f9d-fcbe-39b8757b65b6"
      },
      "source": [
        "'''\n",
        "messing with dummy classifiers \n",
        "'''\n",
        "models = ['uniform', 'stratified', 'most_frequent', \n",
        "          'NB Gaussian', 'Knn' , 'MLP' , 'SVM']\n",
        "\n",
        "f1MacroArr = [] \n",
        "f1MicroArr = []\n",
        "\n",
        "bf1MacroDict = dict()\n",
        "bf1MicroDict = dict()\n",
        "\n",
        "bf1MacroDictOpt = {}\n",
        "bf1MicroDictOpt = {}\n",
        "btime = {}\n",
        "\n",
        "from sklearn.dummy import DummyClassifier\n",
        "DummyModels = []\n",
        "DummyModels.append(DummyClassifier(strategy =  'uniform',  random_state=1))\n",
        "DummyModels.append(DummyClassifier(strategy =  'stratified', random_state=1))\n",
        "DummyModels.append(DummyClassifier(strategy =  'most_frequent', random_state=1))\n",
        "\n",
        "for model in DummyModels:\n",
        "  model.fit(trainData,trainLabels)\n",
        "  preds = model.predict(testData)\n",
        "  print('for dummy model with strategy {}'.format(model.strategy))\n",
        "  f1_macro = f1_score(testLabels,preds,average='macro')\n",
        "  f1_micro = f1_score(testLabels,preds,average='micro')\n",
        "  f1MacroArr.append(f1_macro)\n",
        "  f1MicroArr.append(f1_micro)\n",
        "  p = precision_score(testLabels,preds,average='macro')\n",
        "  r = recall_score(testLabels,preds, average='macro')\n",
        "  print('precision = {:.5f} and recall = {:.5f}'.format(p,r))\n",
        "  print('macro average:\\t{:.3f}\\tmicro average:\\t{:.3f}'.format(f1_macro,f1_micro))\n",
        "  print('confusion matrix:')\n",
        "  res = confusion_matrix(testLabels,preds)\n",
        "  print(res)\n",
        "  print('---------------------------------------------')"
      ],
      "execution_count": null,
      "outputs": [
        {
          "output_type": "stream",
          "text": [
            "for dummy model with strategy uniform\n",
            "precision = 0.16515 and recall = 0.16184\n",
            "macro average:\t0.158\tmicro average:\t0.166\n",
            "confusion matrix:\n",
            "[[85 77 77 71 75 77]\n",
            " [36 24 49 35 33 40]\n",
            " [58 69 73 78 61 65]\n",
            " [32 35 40 26 36 25]\n",
            " [26 36 28 43 44 35]\n",
            " [87 61 71 77 77 68]]\n",
            "---------------------------------------------\n",
            "for dummy model with strategy stratified\n",
            "precision = 0.16428 and recall = 0.16512\n",
            "macro average:\t0.165\tmicro average:\t0.190\n",
            "confusion matrix:\n",
            "[[100  54  93  44  64 107]\n",
            " [ 59  25  53  17  18  45]\n",
            " [ 79  35 103  39  44 104]\n",
            " [ 56  25  41  18  18  36]\n",
            " [ 42  27  49  21  16  57]\n",
            " [107  49 101  44  36 104]]\n",
            "---------------------------------------------\n",
            "for dummy model with strategy most_frequent\n",
            "precision = 0.03990 and recall = 0.16667\n",
            "macro average:\t0.064\tmicro average:\t0.239\n",
            "confusion matrix:\n",
            "[[462   0   0   0   0   0]\n",
            " [217   0   0   0   0   0]\n",
            " [404   0   0   0   0   0]\n",
            " [194   0   0   0   0   0]\n",
            " [212   0   0   0   0   0]\n",
            " [441   0   0   0   0   0]]\n",
            "---------------------------------------------\n"
          ],
          "name": "stdout"
        }
      ]
    },
    {
      "cell_type": "code",
      "metadata": {
        "colab": {
          "base_uri": "https://localhost:8080/"
        },
        "id": "8GLXljKudCEG",
        "outputId": "e7276738-a4a7-4b49-c5be-676705df8f8d"
      },
      "source": [
        "'''\n",
        "naive bayes classifier\n",
        "'''\n",
        "from sklearn.naive_bayes import GaussianNB\n",
        "modelNBC = GaussianNB()\n",
        "modelNBC.fit(trainData,trainLabels)\n",
        "preds = modelNBC.predict(testData)\n",
        "f1_macro = f1_score(testLabels, preds, average = 'macro')\n",
        "f1_micro = f1_score(testLabels, preds, average='micro')\n",
        "f1MacroArr.append(f1_macro)\n",
        "f1MicroArr.append(f1_micro)\n",
        "bf1MacroDict['bayes'] = f1_macro\n",
        "bf1MicroDict['bayes'] = f1_macro\n",
        "p = precision_score(testLabels,preds, average='macro')\n",
        "r = recall_score(testLabels,preds, average='macro')\n",
        "print('precision = {:.5f} and recall = {:.5f}'.format(p,r))\n",
        "\n",
        "print('macro average:\\t{:.3f}\\tmicro average:\\t{:.3f}'.format(f1_macro,f1_micro))\n",
        "print('confusion matrix:')\n",
        "res = confusion_matrix(testLabels,preds)\n",
        "print(res)\n",
        "  "
      ],
      "execution_count": null,
      "outputs": [
        {
          "output_type": "stream",
          "text": [
            "precision = 0.77738 and recall = 0.77915\n",
            "macro average:\t0.775\tmicro average:\t0.795\n",
            "confusion matrix:\n",
            "[[381   1  16   0  64   0]\n",
            " [  8 190   0   3  15   1]\n",
            " [  5   0 365  32   0   2]\n",
            " [  3   0  30 123   6  32]\n",
            " [ 30   3   0   6 147  26]\n",
            " [  1   0   3  90  19 328]]\n"
          ],
          "name": "stdout"
        }
      ]
    },
    {
      "cell_type": "code",
      "metadata": {
        "colab": {
          "base_uri": "https://localhost:8080/"
        },
        "id": "pHbGAxN4dJa7",
        "outputId": "2dee3614-f19d-4436-f7bc-10ed1bb6d7a9"
      },
      "source": [
        "'''\n",
        "KNN classifier\n",
        "'''\n",
        "from sklearn.neighbors import KNeighborsClassifier\n",
        "modelKNN = KNeighborsClassifier()\n",
        "modelKNN.fit(trainData,trainLabels)\n",
        "preds = modelKNN.predict(testData)\n",
        "print(modelKNN)\n",
        "f1_macro = f1_score(testLabels, preds, average='macro')\n",
        "f1_micro = f1_score(testLabels, preds, average='micro')\n",
        "f1MacroArr.append(f1_macro)\n",
        "f1MicroArr.append(f1_micro)\n",
        "bf1MacroDict['knn'] = f1_macro\n",
        "bf1MicroDict['knn'] = f1_micro\n",
        "p = precision_score(testLabels,preds, average='macro')\n",
        "r = recall_score(testLabels,preds, average='macro')\n",
        "print('precision = {:.5f} and recall = {:.5f}'.format(p,r))\n",
        "\n",
        "print('macro average:\\t{:.3f}\\tmicro average:\\t{:.3f}'.format(f1_macro,f1_micro))\n",
        "print('confusion matrix:')\n",
        "res = confusion_matrix(testLabels,preds)\n",
        "print(res)\n",
        "  "
      ],
      "execution_count": null,
      "outputs": [
        {
          "output_type": "stream",
          "text": [
            "KNeighborsClassifier(algorithm='auto', leaf_size=30, metric='minkowski',\n",
            "                     metric_params=None, n_jobs=None, n_neighbors=5, p=2,\n",
            "                     weights='uniform')\n",
            "precision = 0.87663 and recall = 0.86646\n",
            "macro average:\t0.871\tmicro average:\t0.890\n",
            "confusion matrix:\n",
            "[[449   1   9   1   2   0]\n",
            " [  0 209   0   3   2   3]\n",
            " [  1   1 386  11   0   5]\n",
            " [  2   1  37 120   2  32]\n",
            " [ 10   4   4   2 177  15]\n",
            " [  0   1  11  43   9 377]]\n"
          ],
          "name": "stdout"
        }
      ]
    },
    {
      "cell_type": "code",
      "metadata": {
        "colab": {
          "base_uri": "https://localhost:8080/"
        },
        "id": "wbvy8_9-dTn-",
        "outputId": "ad65c4d2-b94b-4bcf-dfd4-5416479d2dae"
      },
      "source": [
        "'''\n",
        "MLP CLASSIFIER\n",
        "'''\n",
        "\n",
        "from sklearn.neural_network import MLPClassifier\n",
        "MLPmodel = MLPClassifier(solver='adam', alpha=1e-4, hidden_layer_sizes=(11,), random_state=1)\n",
        "MLPmodel.fit(trainData , trainLabels)\n",
        "preds = MLPmodel.predict(testData)\n",
        "f1_macro = f1_score(testLabels, preds, average='macro')\n",
        "f1_micro = f1_score(testLabels, preds, average='micro')\n",
        "f1MacroArr.append(f1_macro)\n",
        "f1MicroArr.append(f1_micro)\n",
        "bf1MacroDict['mlp'] = f1_macro\n",
        "bf1MicroDict['mlp'] = f1_micro\n",
        "p = precision_score(testLabels,preds,average='macro')\n",
        "r = recall_score(testLabels,preds,average='macro')\n",
        "print('precision = {:.5f} and recall = {:.5f}'.format(p,r))\n",
        "\n",
        "print('macro average:\\t{:.3f}\\tmicro average:\\t{:.3f}'.format(f1_macro,f1_micro))\n",
        "print('confusion matrix:')\n",
        "res = confusion_matrix(testLabels,preds)\n",
        "print(res)"
      ],
      "execution_count": null,
      "outputs": [
        {
          "output_type": "stream",
          "text": [
            "precision = 0.72459 and recall = 0.70969\n",
            "macro average:\t0.716\tmicro average:\t0.754\n",
            "confusion matrix:\n",
            "[[446   3   7   3   3   0]\n",
            " [  2 195   0   1  17   2]\n",
            " [  7   0 279  73   3  42]\n",
            " [  1   0  58  46   7  82]\n",
            " [ 11   4   3   4 146  44]\n",
            " [  0   0  28  54  16 343]]\n"
          ],
          "name": "stdout"
        }
      ]
    },
    {
      "cell_type": "code",
      "metadata": {
        "colab": {
          "base_uri": "https://localhost:8080/"
        },
        "id": "ltC3Gnyo0QoQ",
        "outputId": "0e438a63-bebb-493a-bbd8-da2daf7d37b7"
      },
      "source": [
        "'''\n",
        "SVM Classifier\n",
        "'''\n",
        "\n",
        "from sklearn.svm import SVC\n",
        "model = SVC(kernel='poly')\n",
        "model.fit(trainData,trainLabels)\n",
        "print(model)\n",
        "preds = model.predict(testData)\n",
        "f1_macro = f1_score(testLabels, preds, average='macro')\n",
        "f1_micro = f1_score(testLabels, preds, average='micro')\n",
        "f1MacroArr.append(f1_macro)\n",
        "f1MicroArr.append(f1_micro)\n",
        "bf1MacroDict['svm'] = f1_macro\n",
        "bf1MicroDict['svm'] = f1_micro\n",
        "p = precision_score(testLabels,preds,average='macro')\n",
        "r = recall_score(testLabels,preds,average='macro')\n",
        "print('precision = {:.5f} and recall = {:.5f}'.format(p,r))\n",
        "\n",
        "print('macro average:\\t{:.3f}\\tmicro average:\\t{:.3f}'.format(f1_macro,f1_micro))\n",
        "print('confusion matrix:')\n",
        "res = confusion_matrix(testLabels,preds)\n",
        "print(res)\n"
      ],
      "execution_count": null,
      "outputs": [
        {
          "output_type": "stream",
          "text": [
            "SVC(C=1.0, break_ties=False, cache_size=200, class_weight=None, coef0=0.0,\n",
            "    decision_function_shape='ovr', degree=3, gamma='scale', kernel='poly',\n",
            "    max_iter=-1, probability=False, random_state=None, shrinking=True,\n",
            "    tol=0.001, verbose=False)\n",
            "precision = 0.85376 and recall = 0.84028\n",
            "macro average:\t0.845\tmicro average:\t0.874\n",
            "confusion matrix:\n",
            "[[449   0  11   0   2   0]\n",
            " [  0 208   0   3   5   1]\n",
            " [  1   2 373  25   1   2]\n",
            " [  2   2  40  95   5  50]\n",
            " [  6   4   2   2 174  24]\n",
            " [  0   0  15  27  12 387]]\n"
          ],
          "name": "stdout"
        }
      ]
    },
    {
      "cell_type": "markdown",
      "metadata": {
        "id": "x4XuLa9XCTB0"
      },
      "source": [
        "Στο παρακάτω κελί κώδικα παρουσιάζονται δύο bar plots εκ των οποίων το ένα αφορά την απόδοση των μοντέλων ταξινόμησης χωρίς να έχει γίνει οποιαδήποτε μορφής βελτιστοποίηση είτε αυτή αφορά υπερμαραμέτρους είτε αφορά την αρχιτεκτονική του μοντέλου ή τα στάδια που μεσολαβούν έως την στιγμή που ο ταξινομητής κάνει train. "
      ]
    },
    {
      "cell_type": "code",
      "metadata": {
        "colab": {
          "base_uri": "https://localhost:8080/",
          "height": 689
        },
        "id": "ISWROr9wAzRG",
        "outputId": "6c356e76-b4f4-4714-8941-603ec1500bff"
      },
      "source": [
        "fig = plt.figure(7)\n",
        "ax = fig.add_axes([0,0,1,1])\n",
        "ax.bar(models, f1MacroArr)\n",
        "plt.title('bar plot of macro average for all estimators in b03 before any optimisation')\n",
        "plt.show()\n",
        "\n",
        "fig = plt.figure(8)\n",
        "ax = fig.add_axes([0,0,1,1])\n",
        "ax.bar(models, f1MicroArr)\n",
        "plt.title('bar plot of micro average for all estimators in b03 before any optimisation')\n",
        "plt.show()"
      ],
      "execution_count": null,
      "outputs": [
        {
          "output_type": "display_data",
          "data": {
            "image/png": "[encoded data removed]",
            "text/plain": [
              "<Figure size 432x288 with 1 Axes>"
            ]
          },
          "metadata": {
            "tags": [],
            "needs_background": "light"
          }
        },
        {
          "output_type": "display_data",
          "data": {
            "image/png": "[encoded data removed]",
            "text/plain": [
              "<Figure size 432x288 with 1 Axes>"
            ]
          },
          "metadata": {
            "tags": [],
            "needs_background": "light"
          }
        }
      ]
    },
    {
      "cell_type": "markdown",
      "metadata": {
        "id": "jepJWyF4dcRK"
      },
      "source": [
        "### Σχολιασμός διαγραμμάτων και μετρικών\n",
        "\n",
        "Το πρώτο που παρατηρείται πό τα παραπάνω διαγράμματα των μετρικών f1-macro, f1-micro είναι ότι οι Dummy Classifiers είναι πολύ χειρότεροι από τους Gaussian NB, Knn, MLP,SVM. Αυτό οφείλεται στις πολλές κλάσεις και την ανισοροπία του Dataset. <br>\n",
        "\n",
        " επόμενη παρατήρηση πρκύπτει από τους πίνακες σύγχησης. Σε όλα τα μοντέλα (χωρίς να κοιτάμε τα Dummy) παρατηρούμε ότι οι ταξινομητές \"μπερδεύουν\" την κλάση 4 με την κλάση 7. Αυτό το συμπεραίνουμε γιατί πολλά στοιχεία την κλάσης 7 ταξινομήθηκαν (από όλους τους ταξινομητές) στην 4 (πεδίο [6,4]) των πινάκων και πολλά στοιχεία της κλάσεις 4 ταξινομήθηκαν ως στοιχεία της κλάσης 7 (πεδίο [4,6]). Αυτό μπορεί να εκφράζει μια υποκεόμενη σχέση για τα δεδομένα. \n",
        "\n",
        " <br> \n",
        " Το precission των ταξινομητών κυμαίνεται από 72.4% (MLP) έως 87.6% (ΚΝΝ), το recall από 71% (MLP) έως 84.6% (MLP). Στις μετρικές f1_macro, f1_micro που αποτελούν και το κριτήριο μας για την επιλογή μοντέλου το KNN έχει τις υψηλότερες μετρικές (87.1% macro και 89% micro) και το MLP τις χειρότερες (71.6% macro και 75.4% micro)."
      ]
    },
    {
      "cell_type": "markdown",
      "metadata": {
        "id": "ouuKbEvdK-Zw"
      },
      "source": [
        "Επόμενο βήμα αποτελεί η βελτιστοποίηση των μοντέλων και η εκ νέου αποτίμηση τους. Υπενθυμίζεται ότι για τους Dummy Classifiers δεν χρειάζεται να γίνει κάποια προεπεξεργασία. Στο επόμενο κελί κώδικα ακολουθεί η βελτιστοποίηση του Naive bayes Gaussian Classifier."
      ]
    },
    {
      "cell_type": "code",
      "metadata": {
        "colab": {
          "base_uri": "https://localhost:8080/"
        },
        "id": "Lp0boUm3K9Wz",
        "outputId": "b62cc35c-b760-4f50-b1bf-2190abe4b55f"
      },
      "source": [
        "from imblearn.pipeline import Pipeline\n",
        "from sklearn.feature_selection import VarianceThreshold\n",
        "from sklearn.preprocessing import StandardScaler\n",
        "from imblearn.over_sampling import RandomOverSampler\n",
        "from sklearn.decomposition import PCA\n",
        "from sklearn.model_selection import GridSearchCV\n",
        "import warnings \n",
        "warnings.filterwarnings('ignore')\n",
        "import time \n",
        "\n",
        "model = GaussianNB()\n",
        "selector = VarianceThreshold()   #only features with variance > threshhold are used\n",
        "scaler = StandardScaler()        #scale data to mean = 0 and std dev =1\n",
        "ros = RandomOverSampler()        #balance dataset's classes\n",
        "pca = PCA()  \n",
        "\n",
        "threshholds = [0.001,0.01,0.02,0.03,0.04] \n",
        "\n",
        "varMax = max(trainData.var(axis=0))\n",
        "varMin = min(trainData.var(axis=0))\n",
        "print(varMax)\n",
        "print(varMin)\n",
        "stepArr = [[('model', model)],\n",
        "           [('pca', pca), ('model', model)],\n",
        "           [('sampler', ros), ('pca', pca), ('model', model)],\n",
        "           [('scaler', scaler), ('sampler', ros), ('pca', pca), ('model', model)],\n",
        "           [('selector', selector), ('scaler', scaler), ('sampler', ros), ('pca', pca), ('model', model)],\n",
        "           [('selector', selector),('model', model)],\n",
        "           [('scaler', scaler),('model', model)],\n",
        "           [('selector', selector), ('scaler', scaler), ('model', model)],\n",
        "           [('scaler', scaler), ('sampler', ros), ('pca', pca), ('model', model)]]\n",
        "start = time.time()\n",
        "\n",
        "maxAcc = 0 \n",
        "for step in stepArr:     \n",
        "  pipe = Pipeline(steps=step)\n",
        "  pipe.fit(trainData, trainLabels)\n",
        "  f1 = np.mean(cross_val_score(pipe,trainData, trainLabels,cv=5 , scoring='f1_macro'))\n",
        "  if(f1 > maxAcc):\n",
        "    maxModel = pipe\n",
        "    maxAcc = f1\n",
        "\n",
        "print('f1 score in cross validation : {:.3f}'.format(maxAcc))\n",
        "model = maxModel\n",
        "model.fit(trainData , trainLabels)\n",
        "preds = model.predict(testData)\n",
        "dur = time.time() - start\n",
        "print('gridsearch, train, predict time : {}hr : {}min : {:.2f} sec'.format(int(dur/3600),int(dur/60),dur%60))\n",
        "btime['bayes'] = dur\n",
        "f1_macro = f1_score(testLabels, preds, average='macro')\n",
        "f1_micro = f1_score(testLabels, preds, average='micro')\n",
        "\n",
        "bf1MacroDictOpt['bayes'] = f1_macro\n",
        "bf1MicroDictOpt['bayes'] = f1_micro\n",
        "p = precision_score(testLabels,preds,average='macro')\n",
        "r = recall_score(testLabels,preds,average='macro')\n",
        "print('precision = {:.5f} and recall = {:.5f}'.format(p,r))\n",
        "\n",
        "print('macro before optimisation:\\t{:.3f}\\tand after opt:\\t{:.3f}'.format(bf1MacroDict['bayes'],bf1MacroDictOpt['bayes']))\n",
        "print('micro before optimisation:\\t{:.3f}\\tand after opt:\\t{:.3f}'.format(bf1MicroDict['bayes'],bf1MicroDictOpt['bayes']))\n",
        "print('confusion matrix:')\n",
        "res = confusion_matrix(testLabels,preds)\n",
        "print(res)\n"
      ],
      "execution_count": null,
      "outputs": [
        {
          "output_type": "stream",
          "text": [
            "523.5154676905271\n",
            "179.08322396069008\n",
            "f1 score in cross validation : 0.819\n",
            "gridsearch, train, predict time : 0hr : 0min : 1.04 sec\n",
            "precision = 0.80583 and recall = 0.81823\n",
            "macro before optimisation:\t0.775\tand after opt:\t0.811\n",
            "micro before optimisation:\t0.775\tand after opt:\t0.840\n",
            "confusion matrix:\n",
            "[[443   3   7   0   9   0]\n",
            " [  0 213   0   0   4   0]\n",
            " [  3   8 365  23   4   1]\n",
            " [  2   9  41 100   4  38]\n",
            " [  5  10   0   2 169  26]\n",
            " [  0   7  12  62  28 332]]\n"
          ],
          "name": "stdout"
        }
      ]
    },
    {
      "cell_type": "markdown",
      "metadata": {
        "id": "bB4KDYiwa3Gy"
      },
      "source": [
        "Παρακάτω ακολυθεί η βελτιστοποίηση του Knn classifier τόσο σε επίπεδο προεπεξεργασίας όσο και σε επίπεδο εύρεσης βέλτιστων υπερπαραμέτρων "
      ]
    },
    {
      "cell_type": "code",
      "metadata": {
        "colab": {
          "base_uri": "https://localhost:8080/"
        },
        "id": "abUjXv-956IE",
        "outputId": "ee1c4e03-13f9-4749-a349-83d91a568305"
      },
      "source": [
        "'''\n",
        "Knn classifier optimisation\n",
        "'''\n",
        "from timeit import default_timer as timer\n",
        "from imblearn.pipeline import Pipeline\n",
        "import numpy as np \n",
        "import time\n",
        "\n",
        "model = KNeighborsClassifier()\n",
        "selector = VarianceThreshold()   #only features with variance > threshhold are used\n",
        "scaler = StandardScaler()        #scale data to mean = 0 and std dev =1\n",
        "ros = RandomOverSampler()        #balance dataset's classes\n",
        "pca = PCA()  \n",
        "\n",
        "knn_nn = [1,3,5,7,9,11,13,15]\n",
        "knn_metrics = ['euclidean', 'manhattan','chebyshev', 'minkowski' , 'seuclidean']\n",
        "knn_weights = ['uniform']\n",
        "pca_components = [i+1 for i in range(len(trainData[0]))]\n",
        "\n",
        "pipe = Pipeline(steps = [('scaler', scaler) , ('pca', pca),('knn' , model)])\n",
        "start = time.time()\n",
        "est = GridSearchCV(pipe ,param_grid=dict(knn__n_neighbors=knn_nn,\n",
        "                                         knn__metric=knn_metrics,\n",
        "                                         knn__weights = knn_weights,\n",
        "                                         pca__n_components=pca_components),\n",
        "                                         cv=5,\n",
        "                                         scoring= ['f1_macro','f1_micro'] , refit = 'f1_macro')\n",
        "est.fit(trainData,trainLabels)\n",
        "print(est.best_params_)\n",
        "preds = est.predict(testData)\n",
        "dur = time.time() - start\n",
        "print('gridsearch, train, predict time : {}hr : {}min : {:.2f} sec'.format(int(dur/3600),int(dur/60),dur%60))\n",
        "btime['knn'] = dur\n",
        "f1_macro = f1_score(testLabels, preds, average='macro')\n",
        "f1_micro = f1_score(testLabels, preds, average='micro')\n",
        "bf1MacroDictOpt['knn'] = f1_macro\n",
        "bf1MicroDictOpt['knn'] = f1_micro\n",
        "p = precision_score(testLabels,preds,average='macro')\n",
        "r = recall_score(testLabels,preds,average='macro')\n",
        "print('precision = {:.5f} and recall = {:.5f}'.format(p,r))\n",
        "\n",
        "print('macro average:\\t{:.3f}\\tmicro average:\\t{:.3f}'.format(f1_macro,f1_micro))\n",
        "print('macro before optimisation:\\t{:.3f}\\tand after opt:\\t{:.3f}'.format(bf1MacroDict['knn'],bf1MacroDictOpt['knn']))\n",
        "print('micro before optimisation:\\t{:.3f}\\tand after opt:\\t{:.3f}'.format(bf1MicroDict['knn'],bf1MicroDictOpt['knn']))\n",
        "print('confusion matrix:')\n",
        "res = confusion_matrix(testLabels,preds)\n",
        "print(res)"
      ],
      "execution_count": null,
      "outputs": [
        {
          "output_type": "stream",
          "text": [
            "{'knn__metric': 'manhattan', 'knn__n_neighbors': 3, 'knn__weights': 'uniform', 'pca__n_components': 16}\n",
            "gridsearch, train, predict time : 0hr : 10min : 5.83 sec\n",
            "precision = 0.87601 and recall = 0.87242\n",
            "macro average:\t0.874\tmicro average:\t0.891\n",
            "macro before optimisation:\t0.871\tand after opt:\t0.874\n",
            "micro before optimisation:\t0.890\tand after opt:\t0.891\n",
            "confusion matrix:\n",
            "[[452   1   7   0   2   0]\n",
            " [  0 208   0   3   3   3]\n",
            " [  1   2 378  17   0   6]\n",
            " [  1   2  35 128   2  26]\n",
            " [  7   3   1   2 183  16]\n",
            " [  0   0  13  49   9 370]]\n"
          ],
          "name": "stdout"
        }
      ]
    },
    {
      "cell_type": "markdown",
      "metadata": {
        "id": "1yqO5l0Cbmtj"
      },
      "source": [
        "Παρακάτω ακολουθεί η βελτιστοποίηση του MLP Classifier."
      ]
    },
    {
      "cell_type": "code",
      "metadata": {
        "colab": {
          "base_uri": "https://localhost:8080/"
        },
        "id": "DjRqYiyIjWeD",
        "outputId": "c6e752ea-6884-4bd8-d81b-9f215ee73e16"
      },
      "source": [
        "model = MLPClassifier()\n",
        "selector = VarianceThreshold()   #only features with variance > threshhold are used\n",
        "scaler = StandardScaler()        #scale data to mean = 0 and std dev =1\n",
        "ros = RandomOverSampler()        #balance dataset's classes\n",
        "pca = PCA()  \n",
        "pca_comps = [i for i in range(1,20)]\n",
        "mlp_hiddenLayers = [(i,) for i in range(1,39)]\n",
        "mlp_solver = ['adam' , 'lbfgs', 'sdg']\n",
        "#mlp_solver = ['adam']\n",
        "mlp_alpha = [10**(-i) for i in range(2,9)]\n",
        "\n",
        "pipe = Pipeline(steps = [('pca' , pca) , ('scaler', scaler) ,('model',model)])\n",
        "start = time.time() \n",
        "est = GridSearchCV(pipe, param_grid=dict(model__hidden_layer_sizes=mlp_hiddenLayers ,\n",
        "                                         model__alpha = mlp_alpha,\n",
        "                                         model__solver = mlp_solver), \n",
        "                                        cv = 5,\n",
        "                                        scoring  = ['f1_macro','f1_micro'],\n",
        "                                        refit='f1_macro' , \n",
        "                                        n_jobs = -1)\n",
        "\n",
        "est.fit(trainData, trainLabels)\n",
        "\n",
        "print(est.best_params_)\n",
        "preds = est.predict(testData)\n",
        "dur = time.time() - start\n",
        "print('gridsearch, train, predict time : {}hr : {}min : {:.2f} sec'.format(int(dur/3600),int(dur/60),dur%60))\n",
        "btime['mlp'] = dur\n",
        "f1_macro = f1_score(testLabels, preds, average='macro')\n",
        "f1_micro = f1_score(testLabels, preds, average='micro')\n",
        "\n",
        "bf1MacroDictOpt['mlp'] = f1_macro\n",
        "bf1MicroDictOpt['mlp'] = f1_micro\n",
        "p = precision_score(testLabels,preds,average='macro')\n",
        "r = recall_score(testLabels,preds,average='macro')\n",
        "print('precision = {:.5f} and recall = {:.5f}'.format(p,r))\n",
        "\n",
        "print('macro average:\\t{:.3f}\\tmicro average:\\t{:.3f}'.format(f1_macro,f1_micro))\n",
        "print('macro before optimisation:\\t{:.3f}\\tand after opt:\\t{:.3f}'.format(bf1MacroDict['mlp'],bf1MacroDictOpt['mlp']))\n",
        "print('micro before optimisation:\\t{:.3f}\\tand after opt:\\t{:.3f}'.format(bf1MicroDict['mlp'],bf1MicroDictOpt['mlp']))\n",
        "print('confusion matrix:')\n",
        "res = confusion_matrix(testLabels,preds)\n",
        "print(res)"
      ],
      "execution_count": null,
      "outputs": [
        {
          "output_type": "stream",
          "text": [
            "{'model__alpha': 1e-06, 'model__hidden_layer_sizes': (38,), 'model__solver': 'adam'}\n",
            "gridsearch, train, predict time : 0hr : 41min : 41.76 sec\n",
            "precision = 0.86600 and recall = 0.85676\n",
            "macro average:\t0.860\tmicro average:\t0.884\n",
            "macro before optimisation:\t0.716\tand after opt:\t0.860\n",
            "micro before optimisation:\t0.754\tand after opt:\t0.884\n",
            "confusion matrix:\n",
            "[[451   1   6   0   3   1]\n",
            " [  1 208   1   2   3   2]\n",
            " [  0   2 375  19   1   7]\n",
            " [  1   1  34 105   3  50]\n",
            " [  3   4   1   1 184  19]\n",
            " [  0   0  10  34  14 383]]\n"
          ],
          "name": "stdout"
        }
      ]
    },
    {
      "cell_type": "code",
      "metadata": {
        "id": "0tyVubdesdpi",
        "colab": {
          "base_uri": "https://localhost:8080/"
        },
        "outputId": "8750f708-8b78-4e0c-8c78-03fba05d8179"
      },
      "source": [
        "from sklearn.svm import SVC\n",
        "model = SVC(kernel='poly', max_iter=900)\n",
        "selector = VarianceThreshold(threshold=varMin + 100)   #only features with variance > threshhold are used\n",
        "scaler = StandardScaler()        #scale data to mean = 0 and std dev =1\n",
        "ros = RandomOverSampler()        #balance dataset's classes\n",
        "pca = PCA()  \n",
        "\n",
        "#c, tol, loss hyperparameters\n",
        "pipe = Pipeline(steps = [('scaler' , scaler) , ('model',model)])\n",
        "svc_c = [0.001,0.01,0.1,10,100]\n",
        "svc_tol = [10**i for i in range(-5,0)]\n",
        "svc_degree = [i for i in range(1,6)]\n",
        "svc_gamma = [10**i for i in range(-7,0)]\n",
        "svc_gamma.append('scale')\n",
        "start = time.time() \n",
        "\n",
        "est = GridSearchCV(pipe, param_grid=dict(model__C=svc_c,\n",
        "                                         model__tol=svc_tol,\n",
        "                                         model__degree=svc_degree,\n",
        "                                         model__gamma=svc_gamma),\n",
        "                                        cv=5, n_jobs=-1, scoring=['f1_macro','f1_micro'], \n",
        "                                        refit='f1_macro')\n",
        "\n",
        "est.fit(trainData,trainLabels)\n",
        "print(est.best_params_)\n",
        "preds = est.predict(testData)\n",
        "\n",
        "dur = time.time() - start\n",
        "print('gridsearch, train, predict time : {}hr : {}min : {:.2f} sec'.format(int(dur/3600),int(dur/60),dur%60))\n",
        "btime['svm'] = dur\n",
        "f1_macro = f1_score(testLabels, preds, average='macro')\n",
        "f1_micro = f1_score(testLabels, preds, average='micro')\n",
        "\n",
        "bf1MacroDictOpt['svm'] = f1_macro\n",
        "bf1MicroDictOpt['svm'] = f1_micro\n",
        "p = precision_score(testLabels,preds,average='macro')\n",
        "r = recall_score(testLabels,preds,average='macro')\n",
        "print('precision = {:.5f} and recall = {:.5f}'.format(p,r))\n",
        "\n",
        "print('macro average:\\t{:.3f}\\tmicro average:\\t{:.3f}'.format(f1_macro,f1_micro))\n",
        "print('macro before optimisation:\\t{:.3f}\\tand after opt:\\t{:.3f}'.format(bf1MacroDict['svm'],bf1MacroDictOpt['svm']))\n",
        "print('micro before optimisation:\\t{:.3f}\\tand after opt:\\t{:.3f}'.format(bf1MicroDict['svm'],bf1MicroDictOpt['svm']))\n",
        "print('confusion matrix:')\n",
        "res = confusion_matrix(testLabels,preds)\n",
        "print(res)\n"
      ],
      "execution_count": null,
      "outputs": [
        {
          "output_type": "stream",
          "text": [
            "{'model__C': 100, 'model__degree': 3, 'model__gamma': 'scale', 'model__tol': 0.1}\n",
            "gridsearch, train, predict time : 0hr : 50min : 9.12 sec\n",
            "precision = 0.86508 and recall = 0.86582\n",
            "macro average:\t0.865\tmicro average:\t0.883\n",
            "macro before optimisation:\t0.845\tand after opt:\t0.865\n",
            "micro before optimisation:\t0.874\tand after opt:\t0.883\n",
            "confusion matrix:\n",
            "[[450   0   9   0   3   0]\n",
            " [  1 206   0   4   4   2]\n",
            " [  0   2 352  43   1   6]\n",
            " [  4   1  26 127   5  31]\n",
            " [  5   3   1   2 185  16]\n",
            " [  0   1   5  38  12 385]]\n"
          ],
          "name": "stdout"
        }
      ]
    },
    {
      "cell_type": "code",
      "metadata": {
        "colab": {
          "base_uri": "https://localhost:8080/",
          "height": 545
        },
        "id": "NCCjfx0jnClh",
        "outputId": "da5df796-feee-407d-c38a-0c46f5eca8e1"
      },
      "source": [
        "fig = plt.figure(8)\n",
        "ax = fig.add_axes([0,0,1,1])\n",
        "ax = plt.subplot(111)\n",
        "ax.bar(bf1MacroDict.keys(),bf1MacroDict.values(), color='g', width=0.2, align = 'center',label = 'no optimised')\n",
        "ax.bar(bf1MacroDictOpt.keys() , bf1MacroDictOpt.values(), color='r',width=0.2,align='edge', label = 'optimised')\n",
        "ax.legend()\n",
        "plt.title('comparative bar plot of macro average for all estimators in b03 before/after optimisation')\n",
        "plt.show()\n",
        "\n",
        "fig = plt.figure(9)\n",
        "ax = fig.add_axes([0,0,1,1])\n",
        "ax = plt.subplot(111)\n",
        "ax.bar(bf1MicroDict.keys(),bf1MicroDict.values(), color='g', width=0.2, align = 'center',label = 'no optimised')\n",
        "ax.bar(bf1MicroDictOpt.keys() , bf1MicroDictOpt.values(), color='r',width=0.2,align='edge', label = 'optimised')\n",
        "ax.legend()\n",
        "plt.title('comparative bar plot of micro average for all estimators in b03 before/after optimisation')\n",
        "plt.show()\n",
        "\n",
        "\n"
      ],
      "execution_count": null,
      "outputs": [
        {
          "output_type": "display_data",
          "data": {
            "image/png": "[encoded data removed]",
            "text/plain": [
              "<Figure size 432x288 with 1 Axes>"
            ]
          },
          "metadata": {
            "tags": [],
            "needs_background": "light"
          }
        },
        {
          "output_type": "display_data",
          "data": {
            "image/png": "[encoded data removed]",
            "text/plain": [
              "<Figure size 432x288 with 1 Axes>"
            ]
          },
          "metadata": {
            "tags": [],
            "needs_background": "light"
          }
        }
      ]
    },
    {
      "cell_type": "code",
      "metadata": {
        "colab": {
          "base_uri": "https://localhost:8080/",
          "height": 281
        },
        "id": "EdM__T6qjYRr",
        "outputId": "e326250e-83a7-4302-e4a1-1cb0d92af4f9"
      },
      "source": [
        "fig = plt.figure(15)\n",
        "ax = fig.add_axes([0,0,1,1])\n",
        "ax = plt.subplot(111)\n",
        "ax.bar(btime.keys(),btime.values(), color='g', width=0.2, align = 'center')\n",
        "plt.title('comparative bar plot of optimisation time (msec) in b03')\n",
        "plt.show()"
      ],
      "execution_count": null,
      "outputs": [
        {
          "output_type": "display_data",
          "data": {
            "image/png": "[encoded data removed]",
            "text/plain": [
              "<Figure size 432x288 with 1 Axes>"
            ]
          },
          "metadata": {
            "tags": [],
            "needs_background": "light"
          }
        }
      ]
    },
    {
      "cell_type": "markdown",
      "metadata": {
        "id": "bp3qmjN6jF2j"
      },
      "source": [
        "Τα μοντέλα βελτιστοποιήθηκαν και για τον κάθε ταξινομητή επιλέχθηκαν οι βέλτιστες υπερπαράμετροι και οι βέλτιστες αρχιτεκτονικές. Οι υπερπαράμετροι βρέθηκαν με GridSearch σε έναν αρκετά ευρώ χώρο και οι αρχιτεκτονικές προέκυψαν εμπειρικά, μετά από αρκετές δομιμές και παραδείγματα. Στις περιπτώσεις, ένα στάδιο προεπεξεργασίας standardScaler πριν το μοντέλο είναι αυτό που δίνει τις καλύτερες επιδώσεις. \n",
        "<br>\n",
        "Παρατηρώντας του νέους πίνακες σύγχησης παρατηρούμε ότι υπάρχει βελτίωση (μεγαλύτεροι αριθμοί στην κύρια διαγώνιο) αλλά όλοι οι ταξινομητές (άλλοι σε μεγαλύτερο βαθμο και άλλοι σε μικρότερο) κατατάσσουν πολλά στοιχεία της κλάσης 4 στην 7 και αντιστρόφως και το γεγονός αυτό συμβάλλει καθοριστικά στην μείωση των επιδόσεων των ταξινομητών.\n",
        "<br>\n",
        "Παρόλα αυτά όλοι οι ταξινομητές παρουσιάζουν αύξηση των επιδόσεων τους. Το precission πλέον κυμαίνεται από 80.5% (Gauss NB) έως 87.6% (KNN) ενώ το recall από 81.8% (Gauss NB) έως 87.2% (KNN). Ο ταξινομητής ωστόσο με την μεγαλύτερη βελτίωση είναι ο MLP ο οποίος από precission  72.4% και recall 71% εκτοξεύτηκε σε 86.5% και 85.6% αντίστοιχα. Στα f1-macro, f1-micro metrics ο KNN είναι ο καλύτερος ταξινομητής με f1-macro 87.6% και f1-micro 87.2%. Το μοντέλο λοιπόν που επιλέγεται για το συγκεκριμένω πρόβλημα είναι ο βελτισοποιημένος KNN ο οποίος έχει πολύ υψηλές αποδόσεις και πολύ χαμηλότερο χρόνο εκπαίδευσης (500 msec)  από τους MLP (2500 msec) και SVC (2500 msec) με τους οποίους έχει συγκρίσιμες μετριτικές. \n",
        "\n"
      ]
    }
  ]
}